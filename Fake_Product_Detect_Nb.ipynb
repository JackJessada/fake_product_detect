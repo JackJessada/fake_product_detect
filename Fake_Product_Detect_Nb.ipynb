{
 "cells": [
  {
   "cell_type": "markdown",
   "id": "08a56847",
   "metadata": {},
   "source": [
    "# Fake product detect from shopee"
   ]
  },
  {
   "cell_type": "markdown",
   "id": "cab2d249",
   "metadata": {},
   "source": [
    "## scrape machine"
   ]
  },
  {
   "cell_type": "markdown",
   "id": "f8192bd0",
   "metadata": {},
   "source": [
    "### import"
   ]
  },
  {
   "cell_type": "code",
   "execution_count": 1,
   "id": "001d27b9",
   "metadata": {},
   "outputs": [],
   "source": [
    "from selenium import webdriver\n",
    "from selenium.webdriver.common.by import By\n",
    "from selenium.webdriver.edge.service import Service\n",
    "from selenium.webdriver.common.keys import Keys\n",
    "from selenium.webdriver.support.ui import WebDriverWait\n",
    "from selenium.webdriver.support import expected_conditions as EC\n",
    "import bs4\n",
    "import pandas as pd"
   ]
  },
  {
   "cell_type": "code",
   "execution_count": 2,
   "id": "7d5d9198",
   "metadata": {},
   "outputs": [],
   "source": [
    "url_L=[]\n",
    "name_L=[]\n",
    "price_L=[]\n",
    "sold_L=[]\n",
    "amount_reviewer_L=[]\n",
    "all_store_reviewer_L=[]\n",
    "all_product_store_L=[]\n",
    "response_rate_L=[]\n",
    "follower_L=[]\n",
    "joined_L=[]\n",
    "rating_L=[]\n",
    "new_url_L=[]"
   ]
  },
  {
   "cell_type": "markdown",
   "id": "b510f0e8",
   "metadata": {},
   "source": [
    "### Set up the driver"
   ]
  },
  {
   "cell_type": "code",
   "execution_count": 3,
   "id": "29913eb5",
   "metadata": {},
   "outputs": [],
   "source": [
    "s = Service('F:\\Code\\edgedriver_win64 (3)\\msedgedriver.exe') #your path driver\n",
    "driver=webdriver.Edge(service=s)#choose the driver ex.Edge, Firefox\n",
    "link=f\"https://shopee.co.th/search?keyword=airpod&page=1 \" #insert the shopee url\n",
    "driver.get(link)\n",
    "\n",
    "#change language to english in shopee\n",
    "WebDriverWait(driver, 10).until(EC.visibility_of_element_located((By.XPATH,f\"/html/body/div[2]/div[1]/div[1]/div/div[3]/div[2]/button\")))\n",
    "eng_button=driver.find_element(By.XPATH,\"/html/body/div[2]/div[1]/div[1]/div/div[3]/div[2]/button\")\n",
    "eng_button.click()"
   ]
  },
  {
   "cell_type": "markdown",
   "id": "64f7ad60",
   "metadata": {},
   "source": [
    "### Functions"
   ]
  },
  {
   "cell_type": "code",
   "execution_count": null,
   "id": "d6d0654f",
   "metadata": {},
   "outputs": [],
   "source": [
    "wait=WebDriverWait(driver, 10)\n",
    "def k_and_m_to_float(txt):\n",
    "    \"ฟังก์ชันเพื่อเปลี่ยน k เป็น 1000 เปลี่ยน m เป็น 1000000 เปลี่ยนเป็น float, this function change k to multiple 100 and m to multiple 1000000 \"\n",
    "    if txt[-1]==\"k\":\n",
    "        txt=(float(txt[:-1])*1000)\n",
    "    elif txt[-1]==\"m\":\n",
    "        txt=(float(txt[:-1])*1000000)\n",
    "    else:\n",
    "        txt=(float(txt))\n",
    "    return txt\n",
    "\n",
    "def hours_convert(txt):\n",
    "    \"ฟังก์ชันเพื่อเปลี่ยนทุกหน่วยเป็นหน่วยชั่วโมง,change, this function change all time unit in to hours\"\n",
    "    if txt[-10:]==' years ago':\n",
    "        txt=float(txt[:-10])*360*24\n",
    "    elif txt[-10:]==' hours ago':\n",
    "        txt=float(txt[:-10])\n",
    "    elif txt[-11:]==' months ago':\n",
    "        txt=float(txt[:-11])*30*24\n",
    "    elif txt[-9:]==' days ago':\n",
    "        txt=float(txt[:-9])*24\n",
    "    else:\n",
    "        txt=(float(0))\n",
    "    return txt\n",
    "\n",
    "def waiter(datatype,positiondata):\n",
    "    \"datatype ex. By.CSS_SELECTOR ,positiondata ex. f'.pmmxKx'\"\n",
    "    wait.until(EC.visibility_of_element_located((datatype,positiondata)))\n",
    "    global soup\n",
    "    soup=bs4.BeautifulSoup(driver.page_source)"
   ]
  },
  {
   "cell_type": "markdown",
   "id": "ada55d5c",
   "metadata": {},
   "source": [
    "### Url archive page"
   ]
  },
  {
   "cell_type": "code",
   "execution_count": null,
   "id": "2a132ac0",
   "metadata": {},
   "outputs": [],
   "source": [
    "for N_of_page in range(1,12): #total of page \n",
    "    link=f\"https://shopee.co.th/search?keyword=airpod&page={N_of_page}\" #ex. \"https://shopee.co.th/search?keyword=phone&page={N_of_page}\"\n",
    "    driver.get(link)\n",
    "    driver.execute_script('document.body.style.zoom=\"1%\"')\n",
    "    try:\n",
    "        WebDriverWait(driver, 10).until(EC.visibility_of_all_elements_located((By.CSS_SELECTOR,f\".row\")))\n",
    "        soup=bs4.BeautifulSoup(driver.page_source)\n",
    "        url=soup.find_all('div', {'class':'col-xs-2-4 shopee-search-item-result__item'})\n",
    "    except:\n",
    "        print(\"not found a product row\")\n",
    "    for i in url:\n",
    "        url_L.append(i.find('a').get('href'))\n",
    "        print(len(url_L))"
   ]
  },
  {
   "cell_type": "markdown",
   "id": "993006f1",
   "metadata": {},
   "source": [
    "### Scrape Feature(X) "
   ]
  },
  {
   "cell_type": "code",
   "execution_count": null,
   "id": "5cf87d88",
   "metadata": {},
   "outputs": [],
   "source": [
    "for i in range ((len(url_L))):\n",
    "    w=('https://shopee.co.th'+url_L[i])\n",
    "    new_url_L.append(w)\n",
    "    print(len(new_url_L))\n",
    "    driver.get(w)\n",
    "    driver.execute_script('document.body.style.zoom=\"1%\"')    \n",
    "    soup=bs4.BeautifulSoup(driver.page_source)\n",
    "    #ชื่อสินค้า Name\n",
    "    try:\n",
    "        waiter(By.CSS_SELECTOR,\".VCNVHn\")\n",
    "        name_L.append(soup.find('div',{'class':'VCNVHn'}).text)\n",
    "    except:\n",
    "        name_L.append(\"None\")\n",
    "    #ราคา Price\n",
    "    try:\n",
    "        waiter(By.CSS_SELECTOR,f\".pmmxKx\")\n",
    "        try:\n",
    "            price_L.append(float(soup.find('div',{'class':'pmmxKx'}).text.replace(\",\",'').replace(\"฿\",\"\")))\n",
    "        except:\n",
    "            price_L.append(float((soup.find('div',{'class':'pmmxKx'}).text.replace(\",\",'').replace(\"฿\",\"\")).partition(' - ')[0]))\n",
    "    except:\n",
    "        price_L.append(\"None\")\n",
    "    #จำนวนที่ขาย sold\n",
    "    try:\n",
    "        waiter(By.CSS_SELECTOR,f\"._45NQT5\")\n",
    "        sold=(soup.find('div',{'class':'_45NQT5'}).text)\n",
    "        sold_L.append(k_and_m_to_float(sold))\n",
    "    except:\n",
    "        sold_L.append('None')\n",
    "    #จำนวนคนรีวิว amount reviewer\n",
    "    try:\n",
    "        waiter(By.CSS_SELECTOR,f\"div.HXGLyo:nth-child(2) > div:nth-child(1)\")\n",
    "        amount_reviewer=(((soup.find_all('div',{'class':'MrYJVA'}))[1]).text)\n",
    "        amount_reviewer_L.append(k_and_m_to_float(amount_reviewer))\n",
    "    except:\n",
    "        amount_reviewer_L.append(float(0))\n",
    "    #จำนวนคนรีวิวร้านค้าทั้งหมด all store reviewer\n",
    "    try:\n",
    "        waiter(By.CSS_SELECTOR,f\"div.MSPJbO:nth-child(1) > div:nth-child(1) > span:nth-child(2)\")\n",
    "        all_store_reviewer=((soup.find_all('span',{'class':'_32ZDbL'}))[0].text)\n",
    "        all_store_reviewer_L.append(k_and_m_to_float(all_store_reviewer))\n",
    "    except:\n",
    "        all_store_reviewer_L.append('None')\n",
    "    #จำนวนสินค้าทั้งหมดของร้านค้า all product of store\n",
    "    try:\n",
    "        waiter(By.CSS_SELECTOR,f\".g54jiy\")\n",
    "        all_product_store_L.append(k_and_m_to_float((soup.find('span',{'class':'_32ZDbL g54jiy'}).text)))\n",
    "    except:\n",
    "        all_product_store_L.append('None')\n",
    "    #อัตราการตอบกลับของร้านค้า response rate of store\n",
    "    try:\n",
    "        waiter(By.CSS_SELECTOR,f\"div.MSPJbO:nth-child(2) > div:nth-child(1) > span:nth-child(2)\")\n",
    "        response_rate_L.append(float((soup.find_all('span',{'class':'_32ZDbL'}))[2].text.replace('%','')))\n",
    "    except:\n",
    "        response_rate_L.append('None')\n",
    "    #จำนวนผู้ติดตาม follower of store\n",
    "    try:\n",
    "        waiter(By.CSS_SELECTOR,f\"div.MSPJbO:nth-child(3) > div:nth-child(2) > span:nth-child(2)\")\n",
    "        follower_L.append(k_and_m_to_float((soup.find_all('span',{'class':'_32ZDbL'}))[5].text))\n",
    "    except:\n",
    "        follower_L.append('None')\n",
    "    #เข้าร่วมเมื่อกี่ชั่วโมงแล้ว joined\n",
    "    try:\n",
    "        waiter(By.CSS_SELECTOR,f\"div.pHNb7U:nth-child(1) > span:nth-child(2)\")\n",
    "        joined_L.append(hours_convert((soup.find_all('span',{'class':'_32ZDbL'}))[4].text))\n",
    "    except:  \n",
    "        joined_L.append('None')\n",
    "    #rating\n",
    "    try:\n",
    "        waiter(By.CSS_SELECTOR,f\".Ga-lTj\")\n",
    "        rating_L.append(float((soup.find('div',{'class':'MrYJVA Ga-lTj'})).text))\n",
    "    except:\n",
    "        rating_L.append(float(0))"
   ]
  },
  {
   "cell_type": "markdown",
   "id": "1cd20ed3",
   "metadata": {},
   "source": [
    "### Make to dataframe for use"
   ]
  },
  {
   "cell_type": "code",
   "execution_count": null,
   "id": "ccd61839",
   "metadata": {},
   "outputs": [],
   "source": [
    "shopee=pd.DataFrame([new_url_L,name_L,price_L,sold_L,amount_reviewer_L,all_store_reviewer_L,all_product_store_L,response_rate_L,follower_L,joined_L,rating_L]).transpose()\n",
    "shopee.columns=['url','name','price','sold','amount reviewer','all reviewer of store','amount product','response rate','follower','joined','rating']"
   ]
  },
  {
   "cell_type": "code",
   "execution_count": null,
   "id": "388889ce",
   "metadata": {},
   "outputs": [],
   "source": [
    "shopee.to_excel(r'F:\\Code\\Shopee_Data_Scraping\\rawdata\\earpod2.xlsx')"
   ]
  },
  {
   "cell_type": "markdown",
   "id": "910a2eee",
   "metadata": {},
   "source": [
    "## Data"
   ]
  },
  {
   "cell_type": "code",
   "execution_count": null,
   "id": "1f9e5ead",
   "metadata": {},
   "outputs": [],
   "source": [
    "from sklearn.model_selection import train_test_split"
   ]
  },
  {
   "cell_type": "code",
   "execution_count": null,
   "id": "e4c77543",
   "metadata": {},
   "outputs": [],
   "source": [
    "url = (r\"https://github.com/JackJessada/fake_product_detect/raw/main/data/thirddataset.xlsx\")\n",
    "df = pd.read_excel(url)"
   ]
  },
  {
   "cell_type": "code",
   "execution_count": null,
   "id": "e803feb3",
   "metadata": {},
   "outputs": [],
   "source": [
    "df.tail()"
   ]
  },
  {
   "cell_type": "code",
   "execution_count": null,
   "id": "996be29d",
   "metadata": {},
   "outputs": [],
   "source": [
    "X = df.drop(['ID', 'url', 'name', 'comment', 'Label'], axis=1)\n",
    "y = df['Label']"
   ]
  },
  {
   "cell_type": "code",
   "execution_count": null,
   "id": "2779c5e6",
   "metadata": {},
   "outputs": [],
   "source": [
    "X_train, X_test, y_train, y_test = train_test_split(X, y, test_size=0.2) #split data"
   ]
  },
  {
   "cell_type": "code",
   "execution_count": null,
   "id": "7cac0480",
   "metadata": {},
   "outputs": [],
   "source": [
    "ax = y_train.value_counts().plot.pie(autopct='%.2f')\n",
    "_ = ax.set_title(\"data\")"
   ]
  },
  {
   "cell_type": "markdown",
   "id": "ea2d66f1",
   "metadata": {},
   "source": [
    "### over samplingsmote data"
   ]
  },
  {
   "cell_type": "code",
   "execution_count": null,
   "id": "758d264b",
   "metadata": {},
   "outputs": [],
   "source": [
    "from imblearn.over_sampling import SMOTE"
   ]
  },
  {
   "cell_type": "code",
   "execution_count": null,
   "id": "87d01cdb",
   "metadata": {},
   "outputs": [],
   "source": [
    "smote=SMOTE(sampling_strategy={0: 1424, 1: 3916, 2:1780},random_state=0,k_neighbors=7,)\n",
    "X_train_sm, y_train_sm = smote.fit_resample(X_train, y_train)\n",
    "ax = y_train_sm.value_counts().plot.pie(autopct='%.2f')\n",
    "_ = ax.set_title(\"Over-sampling(smote)\")"
   ]
  },
  {
   "cell_type": "markdown",
   "id": "096e4e3d",
   "metadata": {},
   "source": [
    "## model"
   ]
  },
  {
   "cell_type": "markdown",
   "id": "63db59f8",
   "metadata": {},
   "source": [
    "### choose models"
   ]
  },
  {
   "cell_type": "markdown",
   "id": "b1e84b69",
   "metadata": {},
   "source": [
    "โดยการ cross validation"
   ]
  },
  {
   "cell_type": "code",
   "execution_count": null,
   "id": "30456d3f",
   "metadata": {},
   "outputs": [],
   "source": [
    "from sklearn.model_selection import cross_val_score\n",
    "from sklearn.model_selection import StratifiedKFold\n",
    "import numpy as np\n",
    "from sklearn.ensemble import RandomForestClassifier\n",
    "from sklearn.neighbors import KNeighborsClassifier\n",
    "import xgboost as xgb"
   ]
  },
  {
   "cell_type": "code",
   "execution_count": null,
   "id": "5d97458e",
   "metadata": {},
   "outputs": [],
   "source": [
    "rf_clf = RandomForestClassifier()\n",
    "xgb_clf=xgb.XGBClassifier()\n",
    "knn_clf=KNeighborsClassifier()\n",
    "skf = StratifiedKFold(10,shuffle=True)\n",
    "for model in [rf_clf, xgb_clf, knn_clf]:\n",
    "    print('Avg. R2- ' + str(model) + ': ' + str(np.mean(cross_val_score(model, X, y, cv=skf))))"
   ]
  },
  {
   "cell_type": "markdown",
   "id": "a002ef33",
   "metadata": {},
   "source": [
    "### model"
   ]
  },
  {
   "cell_type": "code",
   "execution_count": null,
   "id": "12e77ec6",
   "metadata": {},
   "outputs": [],
   "source": [
    "from sklearn import metrics\n",
    "from sklearn.metrics import classification_report,confusion_matrix,accuracy_score"
   ]
  },
  {
   "cell_type": "code",
   "execution_count": null,
   "id": "3960faf5",
   "metadata": {},
   "outputs": [],
   "source": [
    "def classification_model(clf, X_train, y_train, X_test, y_test, show_feature_importance=True):\n",
    "    ls_y_hat_train = []\n",
    "    ls_y_train = []\n",
    "\n",
    "    clf_model = clf.fit(X_train, y_train)\n",
    "    y_hat_train = clf_model.predict(X_train)\n",
    "    ls_y_hat_train.extend(y_hat_train)\n",
    "    ls_y_train.extend(y_train)\n",
    "    report_train = classification_report(ls_y_train, ls_y_hat_train)\n",
    "    print('training set')\n",
    "    print(report_train) \n",
    "    print('\\n')\n",
    "    ls_y_hat_test = []\n",
    "    ls_y_test = []\n",
    "    y_hat_test = clf_model.predict(X_test)\n",
    "    ls_y_hat_test.extend(y_hat_test)\n",
    "    ls_y_test.extend(y_test)\n",
    "    report_test = classification_report(ls_y_test, ls_y_hat_test)\n",
    "    print('test set')\n",
    "    print(report_test) \n",
    "    print('\\n')\n",
    "    predicted = clf_model.predict(X_test)\n",
    "    print(confusion_matrix(y_test, predicted))\n",
    "\n",
    "    if show_feature_importance:\n",
    "        try:\n",
    "            print('Standardized Coeff.')\n",
    "            print(pd.DataFrame({\"Feature\":X_train.columns.tolist(),\"Coefficients\":clf_model.coef_[0]}).to_string())\n",
    "        except:\n",
    "            try:\n",
    "                print(pd.DataFrame({\"Feature\":X_train.columns.tolist(),\"Coefficients\":clf_model.feature_importances_}).to_string())\n",
    "            except:\n",
    "                print(\"No Standardized Coeff.\")"
   ]
  },
  {
   "cell_type": "code",
   "execution_count": null,
   "id": "6275da6d",
   "metadata": {},
   "outputs": [],
   "source": [
    "rf_clf = RandomForestClassifier(n_estimators=50,max_depth=10, random_state=0)"
   ]
  },
  {
   "cell_type": "code",
   "execution_count": null,
   "id": "62bee07a",
   "metadata": {},
   "outputs": [],
   "source": [
    "classification_model(rf_clf,X_train_sm,y_train_sm,X_test,y_test)"
   ]
  },
  {
   "cell_type": "markdown",
   "id": "511aff72",
   "metadata": {},
   "source": [
    "### dump model"
   ]
  },
  {
   "cell_type": "code",
   "execution_count": null,
   "id": "30cd8042",
   "metadata": {},
   "outputs": [],
   "source": [
    "from joblib import dump\n",
    "clf_model = rf_clf.fit(X_train_sm, y_train_sm)\n",
    "dump(clf_model,'rf_clf_model.joblib')"
   ]
  },
  {
   "cell_type": "markdown",
   "id": "5cc27136",
   "metadata": {},
   "source": [
    "## Explainer"
   ]
  },
  {
   "cell_type": "code",
   "execution_count": null,
   "id": "bfd1317c",
   "metadata": {},
   "outputs": [],
   "source": [
    "import shap\n",
    "from explainerdashboard import ClassifierExplainer, ExplainerDashboard\n",
    "import seaborn as sns"
   ]
  },
  {
   "cell_type": "code",
   "execution_count": null,
   "id": "e6c59d0e",
   "metadata": {},
   "outputs": [],
   "source": [
    "shap_values = shap.TreeExplainer(rf_clf).shap_values(X_train)"
   ]
  },
  {
   "cell_type": "code",
   "execution_count": null,
   "id": "7ab918b4",
   "metadata": {},
   "outputs": [],
   "source": [
    "shap.summary_plot(shap_values, X_train)"
   ]
  },
  {
   "cell_type": "code",
   "execution_count": null,
   "id": "3328a766",
   "metadata": {},
   "outputs": [],
   "source": [
    "predicted = rf_clf.predict(X_test)\n",
    "j=(confusion_matrix(y_test, predicted))\n",
    "sns.heatmap(j, annot=True, fmt='g')"
   ]
  },
  {
   "cell_type": "code",
   "execution_count": null,
   "id": "29feca97",
   "metadata": {},
   "outputs": [],
   "source": [
    "explainer = ClassifierExplainer(rf_clf, X_test, y_test, \n",
    "                               cats=X.columns,\n",
    "                               labels=['0', '1','2'])\n",
    "\n",
    "ExplainerDashboard(explainer).run()"
   ]
  }
 ],
 "metadata": {
  "kernelspec": {
   "display_name": "Python 3 (ipykernel)",
   "language": "python",
   "name": "python3"
  },
  "language_info": {
   "codemirror_mode": {
    "name": "ipython",
    "version": 3
   },
   "file_extension": ".py",
   "mimetype": "text/x-python",
   "name": "python",
   "nbconvert_exporter": "python",
   "pygments_lexer": "ipython3",
   "version": "3.9.7"
  }
 },
 "nbformat": 4,
 "nbformat_minor": 5
}
